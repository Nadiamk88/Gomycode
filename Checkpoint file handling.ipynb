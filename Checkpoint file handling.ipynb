{
 "cells": [
  {
   "cell_type": "markdown",
   "metadata": {},
   "source": [
    "1. Write a Python program to read an entire text file.\n",
    "\n",
    "2. Write a Python program to read first n lines of a file.\n",
    "\n",
    "3. Write a Python program to read last n lines of a file\n",
    "\n",
    "4. Write a Python program that takes a text file as input and returns the number of words of a given text file.\n",
    "\n",
    "5. (bonus) Write a Python program to read last n lines of a file"
   ]
  },
  {
   "cell_type": "code",
   "execution_count": 31,
   "metadata": {},
   "outputs": [
    {
     "name": "stdout",
     "output_type": "stream",
     "text": [
      "Number of words:\n",
      "21\n",
      "my first file\n",
      "\n",
      "contains two lines\n",
      "\n",
      "contains three lines\n",
      "\n",
      "contains 4 lines\n",
      "\n"
     ]
    }
   ],
   "source": [
    "f=open(\"newgo.txt\")\n",
    "with open(\"newgo.txt\",'w',encoding = 'utf-8') as f:\n",
    "    f.write(\"my first file\\n\")\n",
    "    f.write(\"contains two lines\\n\")\n",
    "    f.write(\"contains three lines\\n\")\n",
    "    f.write(\"contains 4 lines\\n\")\n",
    "    f.write(\"contains 5 lines\\n\")\n",
    "    f.write(\"contains 6 lines\\n\")\n",
    "    f.write(\"contains 7 lines\\n\")\n",
    "f=open(\"newgo.txt\",'r',encoding = 'utf-8')\n",
    "num_words = 0\n",
    "with open(\"newgo.txt\", 'r') as f:\n",
    "    for line in f:\n",
    "        words = line.split()\n",
    "        num_words += len(words)\n",
    "print(\"Number of words:\")\n",
    "print(num_words)\n",
    "def first_n (file_name,n):\n",
    "     with open(file_name) as f:\n",
    "            for i in range(n):\n",
    "                line=f.readline()\n",
    "                print(line)\n",
    "            \n",
    "def last_n (file_name,n):\n",
    "    with open(file_name) as f:\n",
    "        for line in (f.readlines() [-n:]):\n",
    "            print(line, end ='')\n",
    "#we execute first n function#\n",
    "first_n(\"newgo.txt\",4)\n",
    "#we execute last n function#\n",
    "last_n(\"newgo.txt\",5)"
   ]
  },
  {
   "cell_type": "code",
   "execution_count": null,
   "metadata": {},
   "outputs": [],
   "source": []
  }
 ],
 "metadata": {
  "kernelspec": {
   "display_name": "Python 3",
   "language": "python",
   "name": "python3"
  },
  "language_info": {
   "codemirror_mode": {
    "name": "ipython",
    "version": 3
   },
   "file_extension": ".py",
   "mimetype": "text/x-python",
   "name": "python",
   "nbconvert_exporter": "python",
   "pygments_lexer": "ipython3",
   "version": "3.8.5"
  }
 },
 "nbformat": 4,
 "nbformat_minor": 4
}
