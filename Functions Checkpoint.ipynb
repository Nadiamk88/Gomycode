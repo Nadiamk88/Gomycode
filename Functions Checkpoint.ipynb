{
 "cells": [
  {
   "cell_type": "markdown",
   "metadata": {},
   "source": [
    "# Question 1\n",
    "#Write a Python function to find the Max of three numbers#"
   ]
  },
  {
   "cell_type": "code",
   "execution_count": 65,
   "metadata": {},
   "outputs": [
    {
     "name": "stdout",
     "output_type": "stream",
     "text": [
      "write a number here:9\n",
      "write another number here:9\n",
      "write another number here:8\n",
      "9 is the largest number\n"
     ]
    }
   ],
   "source": [
    "def max():\n",
    "    a=input(\"write a number here:\")\n",
    "    b=input(\"write another number here:\")\n",
    "    c=input(\"write another number here:\")\n",
    "    \n",
    "    if (a>=b and a>=c):\n",
    "        print(a, \"is the largest number\")\n",
    "    elif (b>=a and b>=c):\n",
    "        print(b, \"is the largest number\")\n",
    "    elif (c>=b and c>=a):\n",
    "        print(c, \"is the largest number\")    \n",
    "\n",
    "max()\n"
   ]
  },
  {
   "cell_type": "markdown",
   "metadata": {},
   "source": [
    "# Question 2\n",
    "#Write a function calculation() such that it can accept two variables and calculate the addition and subtraction of it#\n",
    "#And also it must return both addition and subtraction in a single return call#\n",
    "#For example#calculation(40, 10) should produce 50, 30#"
   ]
  },
  {
   "cell_type": "code",
   "execution_count": 67,
   "metadata": {},
   "outputs": [
    {
     "name": "stdout",
     "output_type": "stream",
     "text": [
      "write a number here:40\n",
      "write another number here:10\n"
     ]
    },
    {
     "data": {
      "text/plain": [
       "(50.0, 30.0)"
      ]
     },
     "execution_count": 67,
     "metadata": {},
     "output_type": "execute_result"
    }
   ],
   "source": [
    "def calculation():\n",
    "    a=input(\"write a number here:\")\n",
    "    b=input(\"write another number here:\")\n",
    "    x=float(a)\n",
    "    y=float(b)\n",
    "    return(x+y,x-y)\n",
    "\n",
    "calculation()"
   ]
  },
  {
   "cell_type": "markdown",
   "metadata": {},
   "source": [
    "# Question 3\n",
    "* Write a function that sums the elements of a list of integers.\n",
    "* Write a function that multiplies the elements of an integer list.\n",
    "Use the two functions to sum the elements whose position is an even number (0,2,4…) and multiply the rest.\n",
    "Hint: Consider extracting two lists from a first list "
   ]
  },
  {
   "cell_type": "code",
   "execution_count": 51,
   "metadata": {},
   "outputs": [
    {
     "name": "stdout",
     "output_type": "stream",
     "text": [
      "[1, 6]\n",
      "[5, 8]\n"
     ]
    },
    {
     "data": {
      "text/plain": [
       "(40, 7)"
      ]
     },
     "execution_count": 51,
     "metadata": {},
     "output_type": "execute_result"
    }
   ],
   "source": [
    "def multiplylist(myList):\n",
    "    result= 1\n",
    "    for x in myList:\n",
    "         result=result*x\n",
    "    return (result)\n",
    "\n",
    "def addinglist(myList):\n",
    "    result=0\n",
    "    for x in myList:\n",
    "        result=result+x\n",
    "    return result\n",
    "\n",
    "def position(mylist):\n",
    "    mylisteven=[]\n",
    "    mylistodd=[]\n",
    "    n=len(mylist)\n",
    "    even=0\n",
    "    odd=1\n",
    "    n2=len(mylisteven)\n",
    "    n3=len(mylistodd)\n",
    "    for i in range(n):\n",
    "        if (i%2==0):\n",
    "            mylisteven.append(mylist[i])\n",
    "        else:\n",
    "            mylistodd.append(mylist[i])\n",
    "    print(mylisteven)\n",
    "    print(mylistodd)\n",
    "    even=addinglist(mylisteven)\n",
    "    odd=multiplylist(mylistodd)\n",
    "    return(odd,even)\n",
    "\n",
    "position((1,5,6,8))\n",
    "\n"
   ]
  },
  {
   "cell_type": "markdown",
   "metadata": {},
   "source": [
    "# Question 4 \n",
    "Write a Python program that accepts a hyphen-separated sequence of words as input and prints the words in a hyphen-separated sequence after sorting them alphabetically.\n",
    "\n",
    "Sample Items : green-red-yellow-black-white\n",
    "Expected Result : black-green-red-white-yellow\n",
    "\n",
    "Hint : There's a sort function for lists\n"
   ]
  },
  {
   "cell_type": "code",
   "execution_count": 5,
   "metadata": {},
   "outputs": [
    {
     "name": "stdout",
     "output_type": "stream",
     "text": [
      "Enter hyphen seperated sequence here: green-red-yellow-black-white\n",
      "['black', 'green', 'red', 'white', 'yellow']\n"
     ]
    }
   ],
   "source": [
    "def alphabetically():\n",
    "    mylist=[]\n",
    "    words=input(\"Enter hyphen seperated sequence here: \")\n",
    "    mylist=words.split(\"-\")\n",
    "    mylist.sort()\n",
    "    print(mylist)\n",
    "\n",
    "alphabetically()\n"
   ]
  },
  {
   "cell_type": "markdown",
   "metadata": {},
   "source": [
    "# Question 5\n",
    "Write a function that calculates and prints the value according to the given formula: Q = Square root of [(2 * C * D)/H] Following are the fixed values of C and H: C is 50. H is 30. D is the variable whose values should be input to your program in a comma-separated sequence. Example Let us assume the following comma separated input sequence is given to the function: 100,150,180 The output of the program should be: 18,22,24 \n",
    "\n",
    "Hints: If the output received is in decimal form, it should be rounded off to its nearest value (for example, if the output received is 26.0, it should be printed as 26) In case of input data being supplied to the question, it should be assumed to be a console input. \n"
   ]
  },
  {
   "cell_type": "code",
   "execution_count": 39,
   "metadata": {},
   "outputs": [
    {
     "name": "stdout",
     "output_type": "stream",
     "text": [
      "Enter 3 comma separated numbers here: 100,150,180\n",
      "[18, 22, 24]\n"
     ]
    }
   ],
   "source": [
    "def fun():\n",
    "    import math\n",
    "    mylist=[]\n",
    "    number=input(\"Enter 3 comma separated numbers here: \")\n",
    "    mylist=number.split(\",\")\n",
    "    n=len(mylist)\n",
    "    for i in range (0,n):\n",
    "        mylist[i]=int(mylist[i])\n",
    "        mylist[i]=round(math.sqrt((2*50*mylist[i])/30))\n",
    "    print(mylist)\n",
    "fun()"
   ]
  },
  {
   "cell_type": "code",
   "execution_count": null,
   "metadata": {},
   "outputs": [],
   "source": []
  }
 ],
 "metadata": {
  "kernelspec": {
   "display_name": "Python 3",
   "language": "python",
   "name": "python3"
  },
  "language_info": {
   "codemirror_mode": {
    "name": "ipython",
    "version": 3
   },
   "file_extension": ".py",
   "mimetype": "text/x-python",
   "name": "python",
   "nbconvert_exporter": "python",
   "pygments_lexer": "ipython3",
   "version": "3.8.5"
  }
 },
 "nbformat": 4,
 "nbformat_minor": 4
}
