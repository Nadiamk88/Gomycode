{
 "cells": [
  {
   "cell_type": "markdown",
   "metadata": {},
   "source": [
    "Write a Pandas program to create and display a DataFrame from the following dictionary data which has index labels.\n",
    "exam_data = {'name': ['Anastasia', 'Dima', 'Katherine', 'James', 'Emily', 'Michael', 'Matthew', 'Laura', 'Kevin', 'Jonas'],\n",
    "'score': [12.5, 9, 16.5, np.nan, 9, 20, 14.5, np.nan, 8, 19],\n",
    "'attempts': [1, 3, 2, 3, 2, 3, 1, 1, 2, 1],\n",
    "'qualify': ['yes', 'no', 'yes', 'no', 'no', 'yes', 'yes', 'no', 'no', 'yes']}\n",
    "labels = ['a', 'b', 'c', 'd', 'e', 'f', 'g', 'h', 'i', 'j']\n",
    "\n",
    "Print the three first rows using head() method\n",
    "Delete rows with Nan values\n",
    "Extract the 'name' and 'score' columns from the DataFrame.\n",
    "Write a Pandas program to append a new row 'k' to data frame with these values(name : \"Suresh\", score: 15.5, attempts: 1, qualify: \"yes\")\n",
    "Write a Pandas program to delete the 'attempts' column from the DataFrame.\n",
    "Add a new column \"Success\" : if the score is higher than 10 we will have 1 else we will have 0\n",
    "After executing the final dataframe, export it into csv file named \"my_data\""
   ]
  },
  {
   "cell_type": "code",
   "execution_count": 31,
   "metadata": {},
   "outputs": [
    {
     "name": "stdout",
     "output_type": "stream",
     "text": [
      "        name  score  attempts qualify labels\n",
      "0  Anastasia   12.5         1     yes      a\n",
      "1       Dima    9.0         3      no      b\n",
      "2  Katherine   16.5         2     yes      c\n",
      "        name  score qualify labels  success\n",
      "0  Anastasia   12.5     yes      a        1\n",
      "1       Dima    9.0      no      b        0\n",
      "2  Katherine   16.5     yes      c        1\n",
      "4      Emily    9.0      no      e        0\n",
      "5    Michael   20.0     yes      f        1\n",
      "6    Matthew   14.5     yes      g        1\n",
      "8      Kevin    8.0      no      i        0\n",
      "9      Jonas   19.0     yes      j        1\n",
      "0     Suresh   15.5     yes      k        1\n"
     ]
    }
   ],
   "source": [
    "import pandas as pd\n",
    "import numpy as np\n",
    "dict={'name': ['Anastasia', 'Dima', 'Katherine', 'James', 'Emily', 'Michael', 'Matthew', 'Laura', 'Kevin', 'Jonas'],\n",
    "'score':[12.5, 9, 16.5, np.nan, 9, 20, 14.5, np.nan, 8,19],\n",
    "'attempts':[1, 3, 2, 3, 2, 3, 1, 1, 2, 1],\n",
    "'qualify':['yes','no','yes','no','no','yes','yes','no','no','yes'],\n",
    "'labels':['a','b','c','d','e','f','g','h','i','j']}\n",
    "df=pd.DataFrame(dict)\n",
    "print(df.head(3))\n",
    "df=df.dropna()\n",
    "df.iloc[:,0:2] \n",
    "k={'name':['Suresh'],'score':[15.5],'attempts':[1],'labels':'k','qualify':['yes']}\n",
    "df2=pd.DataFrame(k)\n",
    "new_df=pd.concat([df,df2])\n",
    "new_df.drop(['attempts'], axis='columns', inplace=True)\n",
    "def success(row):\n",
    "    x=1\n",
    "    if row['score'] >= 10:\n",
    "        x=1\n",
    "    else:\n",
    "        x=0\n",
    "    return x\n",
    "\n",
    "new_df['success']=new_df.apply (lambda row: success(row), axis=1)\n",
    "print(new_df)\n",
    "new_df.to_csv('my_data.csv')\n"
   ]
  },
  {
   "cell_type": "code",
   "execution_count": 30,
   "metadata": {},
   "outputs": [
    {
     "name": "stdout",
     "output_type": "stream",
     "text": [
      "pink     23\n",
      "white    37\n",
      "black    15\n",
      "blue     53\n",
      "dtype: int64\n"
     ]
    }
   ],
   "source": [
    "import pandas as pd\n",
    "color=[\"pink\", \"white\", \"black\", \"blue\"]\n",
    "S1=pd.Series([20, 15, 6, 43], index=color)\n",
    "S2=pd.Series([3, 22, 9, 10], index=color)\n",
    "\n",
    "print(S1+S2)\n"
   ]
  },
  {
   "cell_type": "code",
   "execution_count": null,
   "metadata": {},
   "outputs": [],
   "source": []
  }
 ],
 "metadata": {
  "kernelspec": {
   "display_name": "Python 3",
   "language": "python",
   "name": "python3"
  },
  "language_info": {
   "codemirror_mode": {
    "name": "ipython",
    "version": 3
   },
   "file_extension": ".py",
   "mimetype": "text/x-python",
   "name": "python",
   "nbconvert_exporter": "python",
   "pygments_lexer": "ipython3",
   "version": "3.8.5"
  }
 },
 "nbformat": 4,
 "nbformat_minor": 4
}
