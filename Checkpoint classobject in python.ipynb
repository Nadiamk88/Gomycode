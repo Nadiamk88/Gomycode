{
 "cells": [
  {
   "cell_type": "markdown",
   "metadata": {},
   "source": [
    "1.Write a Python program to find a pair of elements (indices of the two numbers) from a given array whose sum equals a specific target number\n",
    "Input: numbers= [10,20,10,40,50,60,70], target=50\n",
    "Output: 3, 4\n",
    "\n"
   ]
  },
  {
   "cell_type": "code",
   "execution_count": 9,
   "metadata": {},
   "outputs": [
    {
     "name": "stdout",
     "output_type": "stream",
     "text": [
      "2 , 3\n"
     ]
    }
   ],
   "source": [
    "def targ(mylist,val):\n",
    "    for i in range(len(mylist)-1):\n",
    "        if (mylist[i]+mylist[i+1]==val):\n",
    "            print(i,\",\",i+1)\n",
    "        \n",
    "targ([10,20,10,40,50,60,70],50)"
   ]
  },
  {
   "cell_type": "markdown",
   "metadata": {},
   "source": [
    "2. Write a Python class to get all possible unique subsets from a set of distinct integers.\n",
    "\n",
    "Input : [4, 5, 6]\n",
    "Output : [[], [6], [5], [5, 6], [4], [4, 6], [4, 5], [4, 5, 6]]\n",
    "\n"
   ]
  },
  {
   "cell_type": "code",
   "execution_count": null,
   "metadata": {},
   "outputs": [],
   "source": [
    "class sub:  \n",
    "    def f1(self, s1):  \n",
    "        return self.f2([], sorted(s1))  \n",
    " \n",
    "    def f2(self, curr, s1):  \n",
    "        if s1:  \n",
    "            return self.f2(curr, s1[1:]) + self.f2(curr + [s1[0]], s1[1:])  \n",
    "        return [curr]  \n",
    "a=[]\n",
    "n=int(input(\"Enter number of elements of list: \"))\n",
    "for i in range(0,n):\n",
    "    b=int(input(\"Enter element: \"))\n",
    "    a.append(b)\n",
    "print(\"Subsets: \")\n",
    "print(sub().f1(a))\n",
    "        "
   ]
  },
  {
   "cell_type": "markdown",
   "metadata": {},
   "source": [
    "3. Write a Python class to find the three elements that sum to zero from a set of n real numbers.\n",
    "\n",
    "Input array : [-25, -10, -7, -3, 2, 4, 8, 10]\n",
    "Output : [[-10, 2, 8], [-7, -3, 10]]\n",
    "\n"
   ]
  },
  {
   "cell_type": "code",
   "execution_count": 4,
   "metadata": {},
   "outputs": [
    {
     "name": "stdout",
     "output_type": "stream",
     "text": [
      "[[-10, 2, 8], [-7, -3, 10]]\n"
     ]
    }
   ],
   "source": [
    "class elements_sum:\n",
    " def threeSum(self, nums):\n",
    "        nums, result, i = sorted(nums), [], 0\n",
    "        while i < len(nums) - 2:\n",
    "            j, k = i + 1, len(nums) - 1\n",
    "            while j < k:\n",
    "                if nums[i] + nums[j] + nums[k] < 0:\n",
    "                    j += 1\n",
    "                elif nums[i] + nums[j] + nums[k] > 0:\n",
    "                    k -= 1\n",
    "                else:\n",
    "                    result.append([nums[i], nums[j], nums[k]])\n",
    "                    j, k = j + 1, k - 1\n",
    "                    while j < k and nums[j] == nums[j - 1]:\n",
    "                        j += 1\n",
    "                    while j < k and nums[k] == nums[k + 1]:\n",
    "                        k -= 1\n",
    "            i += 1\n",
    "            while i < len(nums) - 2 and nums[i] == nums[i - 1]:\n",
    "                i += 1\n",
    "        return result\n",
    "print(elements_sum().threeSum([-25, -10, -7, -3, 2, 4, 8, 10]))"
   ]
  },
  {
   "cell_type": "markdown",
   "metadata": {},
   "source": [
    "4. Write a Python class to find a pair of elements (indices of the two numbers) from a given array whose sum equals a specific target number\n",
    "\n",
    "Input: numbers= [10,20,10,40,50,60,70], target=50\n",
    "Output: 3, 4"
   ]
  },
  {
   "cell_type": "code",
   "execution_count": 5,
   "metadata": {},
   "outputs": [
    {
     "name": "stdout",
     "output_type": "stream",
     "text": [
      "index1=2, index2=3\n"
     ]
    }
   ],
   "source": [
    "class targ:\n",
    "   def twoSum(self, nums, target):\n",
    "        lookup = {}\n",
    "        for i, num in enumerate(nums):\n",
    "            if target - num in lookup:\n",
    "                return (lookup[target - num], i )\n",
    "            lookup[num] = i\n",
    "print(\"index1=%d, index2=%d\" % targ().twoSum((10,20,10,40,50,60,70),50))"
   ]
  },
  {
   "cell_type": "code",
   "execution_count": null,
   "metadata": {},
   "outputs": [],
   "source": []
  }
 ],
 "metadata": {
  "kernelspec": {
   "display_name": "Python 3",
   "language": "python",
   "name": "python3"
  },
  "language_info": {
   "codemirror_mode": {
    "name": "ipython",
    "version": 3
   },
   "file_extension": ".py",
   "mimetype": "text/x-python",
   "name": "python",
   "nbconvert_exporter": "python",
   "pygments_lexer": "ipython3",
   "version": "3.8.5"
  }
 },
 "nbformat": 4,
 "nbformat_minor": 4
}
