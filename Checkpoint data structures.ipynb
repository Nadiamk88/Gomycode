{
 "cells": [
  {
   "cell_type": "markdown",
   "metadata": {},
   "source": [
    "#Q1"
   ]
  },
  {
   "cell_type": "code",
   "execution_count": 1,
   "metadata": {},
   "outputs": [
    {
     "name": "stdout",
     "output_type": "stream",
     "text": [
      "Enter number of elements : 3\n",
      "enter the number here: 2\n",
      "enter the number here: 3\n",
      "enter the number here: 6\n",
      "36\n"
     ]
    }
   ],
   "source": [
    "#Write a Python program to multiplies all the items in a list.\n",
    "#for example list=[2, 3, 6] \n",
    "#result = 36\n",
    "my_list=[]\n",
    "multiplication=1\n",
    "n=int(input(\"Enter number of elements : \"))\n",
    "for i in range(0,n):\n",
    "    element=int(input(\"enter the number here: \"))\n",
    "    my_list.append(element)\n",
    "    multiplication=element*multiplication\n",
    "print(multiplication)\n"
   ]
  },
  {
   "cell_type": "markdown",
   "metadata": {},
   "source": [
    "#Q2"
   ]
  },
  {
   "cell_type": "code",
   "execution_count": 6,
   "metadata": {},
   "outputs": [
    {
     "name": "stdout",
     "output_type": "stream",
     "text": [
      "[(2, 1), (1, 2), (2, 3), (4, 4), (2, 5)]\n"
     ]
    }
   ],
   "source": [
    "#Write a Python program to get a list, sorted in increasing order by the last element in each tuple \n",
    "#from a given list of non-empty tuples.\n",
    "#Sample List : [(2, 5), (1, 2), (4, 4), (2, 3), (2, 1)]\n",
    "#Expected Result : [(2, 1), (1, 2), (2, 3), (4, 4), (2, 5)]\n",
    "\n",
    "def last(n): \n",
    "    return n[-1]\n",
    "\n",
    "def sortlist(tuples):\n",
    "    return sorted(tuples, key=last)\n",
    "print(sortlist([(2, 5), (1, 2), (4, 4), (2, 3), (2, 1)]))\n"
   ]
  },
  {
   "cell_type": "markdown",
   "metadata": {},
   "source": [
    "#Q3"
   ]
  },
  {
   "cell_type": "code",
   "execution_count": 7,
   "metadata": {},
   "outputs": [
    {
     "name": "stdout",
     "output_type": "stream",
     "text": [
      "{'a': 400, 'b': 400, 'd': 400}\n"
     ]
    }
   ],
   "source": [
    "#Write a Python program to combine two dictionary adding values for common keys.\n",
    "#d1 = {'a': 100, 'b': 200, 'c':300}\n",
    "#d2 = {'a': 300, 'b': 200, 'd':400}\n",
    "#Expected output: {'a': 400, 'b': 400, 'd': 400, 'c': 300}\n",
    "d1 = {'a': 100, 'b': 200, 'c':300}\n",
    "d2 = {'a': 300, 'b': 200, 'd':400}\n",
    "for key in d2:\n",
    "    if key in d1:\n",
    "        d2[key] = d2[key] + d1[key]\n",
    "    else:\n",
    "        pass         \n",
    "print(d2)\n"
   ]
  },
  {
   "cell_type": "markdown",
   "metadata": {},
   "source": [
    "#Q4\n"
   ]
  },
  {
   "cell_type": "code",
   "execution_count": 11,
   "metadata": {},
   "outputs": [
    {
     "name": "stdout",
     "output_type": "stream",
     "text": [
      "Enter a number:8\n",
      "{1: 1, 2: 4, 3: 9, 4: 16, 5: 25, 6: 36, 7: 49, 8: 64}\n",
      "Enter a number:8\n",
      "{8: 64}\n"
     ]
    }
   ],
   "source": [
    "#Question: With a given integral number n, write a program to generate a dictionary that contains (i, i*i) such that \n",
    "#is an integral number between 1 and n (both included). \n",
    "#and then the program should print the dictionary. Suppose the following input is supplied to the program: 8 Then, \n",
    "#the output should be: {1: 1, 2: 4, 3: 9, 4: 16, 5: 25, 6: 36, 7: 49, 8: 64}\n",
    "\n",
    "n=int(input(\"Enter a number:\"))\n",
    "d={x:x*x for x in range(1,n+1)}\n",
    "print(d)\n",
    "\n",
    "n=int(input(\"Enter a number:\"))\n",
    "for x in range(1,n+1):\n",
    "    d2={x:x*x}\n",
    "print(d2)"
   ]
  },
  {
   "cell_type": "markdown",
   "metadata": {},
   "source": [
    "#Q5"
   ]
  },
  {
   "cell_type": "code",
   "execution_count": 17,
   "metadata": {},
   "outputs": [
    {
     "name": "stdout",
     "output_type": "stream",
     "text": [
      "[('item1', '12.20'), ('item2', '15.10'), ('item3', '24.5')]\n"
     ]
    }
   ],
   "source": [
    "#Write a program to sort a tuple by its float element.\n",
    "#For example list= [('item1', '12.20'), ('item2', '15.10'), ('item3', '24.5')]\n",
    "#Expected Output: [('item3', '24.5'), ('item2', '15.10'), ('item1', '12.20')]\n",
    "price= [('item1', '12.20'), ('item2', '15.10'), ('item3', '24.5')]\n",
    "print( sorted(price, key=lambda x: float(x[1])))"
   ]
  },
  {
   "cell_type": "code",
   "execution_count": null,
   "metadata": {},
   "outputs": [],
   "source": []
  }
 ],
 "metadata": {
  "kernelspec": {
   "display_name": "Python 3",
   "language": "python",
   "name": "python3"
  },
  "language_info": {
   "codemirror_mode": {
    "name": "ipython",
    "version": 3
   },
   "file_extension": ".py",
   "mimetype": "text/x-python",
   "name": "python",
   "nbconvert_exporter": "python",
   "pygments_lexer": "ipython3",
   "version": "3.8.5"
  }
 },
 "nbformat": 4,
 "nbformat_minor": 4
}
