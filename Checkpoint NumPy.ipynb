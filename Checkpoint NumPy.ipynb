{
 "cells": [
  {
   "cell_type": "markdown",
   "metadata": {},
   "source": [
    "Question 1:\n",
    "Write a Python program to convert an array to an ordinary list with the same items.\n",
    "\n",
    "we can use the np.tolist() function"
   ]
  },
  {
   "cell_type": "code",
   "execution_count": 2,
   "metadata": {},
   "outputs": [
    {
     "name": "stdout",
     "output_type": "stream",
     "text": [
      "Array to list =  [[1, 2, 3], [4, 5, 6]]\n"
     ]
    }
   ],
   "source": [
    "import numpy as np\n",
    "a=np.array([[1,2,3],[4,5,6]])\n",
    "print(\"Array to list = \", a.tolist())"
   ]
  },
  {
   "cell_type": "markdown",
   "metadata": {},
   "source": [
    "Question2:\n",
    "Write a NumPy program to compute the sum of the diagonal elements of a given array.\n",
    "\n",
    "Hint: Two methods to solve this problem: 1. manually(without direct function). 2. using the trace function"
   ]
  },
  {
   "cell_type": "code",
   "execution_count": 11,
   "metadata": {},
   "outputs": [
    {
     "name": "stdout",
     "output_type": "stream",
     "text": [
      "the given matrix is:                                                                                                           [[1 2 3]\n",
      " [4 5 6]\n",
      " [1 2 3]]\n",
      "sum of the diagonal elements is: 9\n"
     ]
    }
   ],
   "source": [
    "a=np.array([[1,2,3],[4,5,6],[1,2,3]])\n",
    "print(\"the given matrix is:                                                                                                          \"\n",
    "      ,\n",
    "      a)\n",
    "trace =np.trace(a)\n",
    "print(\"sum of the diagonal elements is:\", trace)"
   ]
  },
  {
   "cell_type": "markdown",
   "metadata": {},
   "source": [
    "Question 3\n",
    "\n",
    "Given an array of your choice, get all the values higher than X :\n",
    "\n",
    "if a = [[1,2],[3,5]] and x = 3 :  then 3 and 5 are higher than 2. "
   ]
  },
  {
   "cell_type": "code",
   "execution_count": 19,
   "metadata": {},
   "outputs": [
    {
     "name": "stdout",
     "output_type": "stream",
     "text": [
      "input element x here: 2\n",
      "[3, 5]\n"
     ]
    }
   ],
   "source": [
    "a=np.array([[1,2],[3,5]])\n",
    "x=input(\"input element x here: \")\n",
    "x=int(x)\n",
    "l=[]\n",
    "b=a.reshape(-1)\n",
    "\n",
    "for i in b:\n",
    "    if (i > x):\n",
    "        l.append(i)\n",
    "print(l)\n",
    "\n"
   ]
  },
  {
   "cell_type": "markdown",
   "metadata": {},
   "source": [
    "Question 4\n",
    "\n",
    "Given two arrays A&B having the same shape. \n",
    "\n",
    "The task is to apply addition by hand: C is the new array. "
   ]
  },
  {
   "cell_type": "code",
   "execution_count": 20,
   "metadata": {},
   "outputs": [
    {
     "name": "stdout",
     "output_type": "stream",
     "text": [
      "[[ 2  4]\n",
      " [ 6 10]]\n"
     ]
    }
   ],
   "source": [
    "a=np.array([[1,2],[3,5]])\n",
    "b=np.array([[1,2],[3,5]])\n",
    "c=a+b\n",
    "print(c)\n",
    "\n"
   ]
  },
  {
   "cell_type": "markdown",
   "metadata": {},
   "source": [
    "Question 5\n",
    "\n",
    "Write a NumPy program to subtract the mean of each row of a given matrix.\n",
    "\n",
    "Hint: use the mean function\n",
    "\n",
    " "
   ]
  },
  {
   "cell_type": "code",
   "execution_count": 34,
   "metadata": {},
   "outputs": [
    {
     "name": "stdout",
     "output_type": "stream",
     "text": [
      "[1.5 4.  1.5 6.  6.5 9.5]\n"
     ]
    }
   ],
   "source": [
    "a=np.array([[1,2],[3,5],[1,2],[4,8],[1,12],[9,10]])\n",
    "m=np.mean(a,axis=1)\n",
    "print(m)\n"
   ]
  },
  {
   "cell_type": "code",
   "execution_count": null,
   "metadata": {},
   "outputs": [],
   "source": []
  },
  {
   "cell_type": "code",
   "execution_count": null,
   "metadata": {},
   "outputs": [],
   "source": []
  },
  {
   "cell_type": "code",
   "execution_count": 5,
   "metadata": {},
   "outputs": [
    {
     "name": "stdout",
     "output_type": "stream",
     "text": [
      "[[1. 0. 0. 0. 0. 0. 0.]\n",
      " [0. 1. 0. 0. 0. 0. 0.]\n",
      " [0. 0. 1. 0. 0. 0. 0.]\n",
      " [0. 0. 0. 1. 0. 0. 0.]\n",
      " [0. 0. 0. 0. 1. 0. 0.]\n",
      " [0. 0. 0. 0. 0. 1. 0.]\n",
      " [0. 0. 0. 0. 0. 0. 1.]]\n"
     ]
    }
   ],
   "source": [
    "array=np.eye(7)\n",
    "print(array)"
   ]
  },
  {
   "cell_type": "code",
   "execution_count": 6,
   "metadata": {},
   "outputs": [
    {
     "name": "stdout",
     "output_type": "stream",
     "text": [
      "[[ 6.  8.]\n",
      " [10. 12.]]\n"
     ]
    }
   ],
   "source": [
    "x=np.array([[1,2],[3,4]], dtype=np.float64)\n",
    "y=np.array([[5,6],[7,8]], dtype=np.float64)\n",
    "print(x+y)"
   ]
  },
  {
   "cell_type": "code",
   "execution_count": 4,
   "metadata": {},
   "outputs": [
    {
     "name": "stdout",
     "output_type": "stream",
     "text": [
      "pink     20\n",
      "white    15\n",
      "black     6\n",
      "blue     43\n",
      "dtype: int64\n"
     ]
    }
   ],
   "source": [
    "import pandas as pd\n",
    "color=[\"pink\", \"white\", \"black\", \"blue\"]\n",
    "occurence = [20, 15, 6, 43]\n",
    "S=pd.Series(occurence, index=color)\n",
    "print(S)"
   ]
  },
  {
   "cell_type": "code",
   "execution_count": 2,
   "metadata": {},
   "outputs": [
    {
     "name": "stdout",
     "output_type": "stream",
     "text": [
      "pink     23\n",
      "white    37\n",
      "black    15\n",
      "blue     53\n",
      "dtype: int64\n"
     ]
    }
   ],
   "source": [
    "import pandas as pd\n",
    "color=[\"pink\", \"white\", \"black\", \"blue\"]\n",
    "S1=pd.Series([20, 15, 6, 43], index=color)\n",
    "S2=pd.Series([3, 22, 9, 10], index=color)\n",
    "print(S1+S2)"
   ]
  },
  {
   "cell_type": "code",
   "execution_count": null,
   "metadata": {},
   "outputs": [],
   "source": []
  }
 ],
 "metadata": {
  "kernelspec": {
   "display_name": "Python 3",
   "language": "python",
   "name": "python3"
  },
  "language_info": {
   "codemirror_mode": {
    "name": "ipython",
    "version": 3
   },
   "file_extension": ".py",
   "mimetype": "text/x-python",
   "name": "python",
   "nbconvert_exporter": "python",
   "pygments_lexer": "ipython3",
   "version": "3.8.5"
  }
 },
 "nbformat": 4,
 "nbformat_minor": 4
}
